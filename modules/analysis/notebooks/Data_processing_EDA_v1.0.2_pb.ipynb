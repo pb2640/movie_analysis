{
 "cells": [
  {
   "cell_type": "code",
   "execution_count": 1,
   "id": "5a161836-f781-4e08-8cb7-da2347d22e7c",
   "metadata": {},
   "outputs": [],
   "source": [
    "import pandas as pd\n",
    "# import polars as pl"
   ]
  },
  {
   "cell_type": "code",
   "execution_count": 2,
   "id": "814f61f7-e89b-4bc7-99c0-38ebef2ce311",
   "metadata": {},
   "outputs": [],
   "source": [
    "data_path = r\"C:\\Users\\parth\\2023\\Fall 2023\\Projects\\docker_hack\\data\\data.csv\"\n",
    "# data_path = \"../../../data/csv_dumps/data.csv\""
   ]
  },
  {
   "cell_type": "code",
   "execution_count": 3,
   "id": "7308447d-ccb7-4d43-8f04-2f566708c3f1",
   "metadata": {},
   "outputs": [
    {
     "data": {
      "text/html": [
       "<div>\n",
       "<style scoped>\n",
       "    .dataframe tbody tr th:only-of-type {\n",
       "        vertical-align: middle;\n",
       "    }\n",
       "\n",
       "    .dataframe tbody tr th {\n",
       "        vertical-align: top;\n",
       "    }\n",
       "\n",
       "    .dataframe thead th {\n",
       "        text-align: right;\n",
       "    }\n",
       "</style>\n",
       "<table border=\"1\" class=\"dataframe\">\n",
       "  <thead>\n",
       "    <tr style=\"text-align: right;\">\n",
       "      <th></th>\n",
       "      <th>first</th>\n",
       "      <th>actors</th>\n",
       "      <th>details</th>\n",
       "      <th>boxOffice</th>\n",
       "      <th>techspecs</th>\n",
       "    </tr>\n",
       "  </thead>\n",
       "  <tbody>\n",
       "    <tr>\n",
       "      <th>0</th>\n",
       "      <td>[{'title': 'Mobile Two'}, {'genres': ['Drama']...</td>\n",
       "      <td>[{'image': 'https://m.media-amazon.com/images/...</td>\n",
       "      <td>[{'title-details-releasedate': {'val': ['Septe...</td>\n",
       "      <td>[]</td>\n",
       "      <td>[{'title-techspec_runtime': {'val': '1 hour 30...</td>\n",
       "    </tr>\n",
       "    <tr>\n",
       "      <th>1</th>\n",
       "      <td>[{'title': 'Giving Becky a Chance'}, {'poster_...</td>\n",
       "      <td>[{'image': 'https://m.media-amazon.com/images/...</td>\n",
       "      <td>[{'title-details-releasedate': {'val': ['June ...</td>\n",
       "      <td>[]</td>\n",
       "      <td>[{'title-techspec_runtime': {'val': '50 minute...</td>\n",
       "    </tr>\n",
       "    <tr>\n",
       "      <th>2</th>\n",
       "      <td>[{'title': 'Promises'}, {'poster_link': 'https...</td>\n",
       "      <td>[]</td>\n",
       "      <td>[{'title-details-releasedate': {'val': ['2022 ...</td>\n",
       "      <td>[{'title-boxoffice-budget': {'val': '$8,000 (e...</td>\n",
       "      <td>[{'title-techspec_runtime': {'val': '14 minute...</td>\n",
       "    </tr>\n",
       "    <tr>\n",
       "      <th>3</th>\n",
       "      <td>[{'title': 'Sin'}, {'poster_link': 'https://m....</td>\n",
       "      <td>[{'image': 'https://m.media-amazon.com/images/...</td>\n",
       "      <td>[{'title-details-releasedate': {'val': ['Octob...</td>\n",
       "      <td>[]</td>\n",
       "      <td>[{'title-techspec_runtime': {'val': '50 minute...</td>\n",
       "    </tr>\n",
       "    <tr>\n",
       "      <th>4</th>\n",
       "      <td>[{'title': 'The Miseducation of Bindu'}, {'pos...</td>\n",
       "      <td>[{'image': 'https://m.media-amazon.com/images/...</td>\n",
       "      <td>[{'title-details-releasedate': {'val': ['Octob...</td>\n",
       "      <td>[]</td>\n",
       "      <td>[{'title-techspec_runtime': {'val': '1 hour 32...</td>\n",
       "    </tr>\n",
       "  </tbody>\n",
       "</table>\n",
       "</div>"
      ],
      "text/plain": [
       "                                               first  \\\n",
       "0  [{'title': 'Mobile Two'}, {'genres': ['Drama']...   \n",
       "1  [{'title': 'Giving Becky a Chance'}, {'poster_...   \n",
       "2  [{'title': 'Promises'}, {'poster_link': 'https...   \n",
       "3  [{'title': 'Sin'}, {'poster_link': 'https://m....   \n",
       "4  [{'title': 'The Miseducation of Bindu'}, {'pos...   \n",
       "\n",
       "                                              actors  \\\n",
       "0  [{'image': 'https://m.media-amazon.com/images/...   \n",
       "1  [{'image': 'https://m.media-amazon.com/images/...   \n",
       "2                                                 []   \n",
       "3  [{'image': 'https://m.media-amazon.com/images/...   \n",
       "4  [{'image': 'https://m.media-amazon.com/images/...   \n",
       "\n",
       "                                             details  \\\n",
       "0  [{'title-details-releasedate': {'val': ['Septe...   \n",
       "1  [{'title-details-releasedate': {'val': ['June ...   \n",
       "2  [{'title-details-releasedate': {'val': ['2022 ...   \n",
       "3  [{'title-details-releasedate': {'val': ['Octob...   \n",
       "4  [{'title-details-releasedate': {'val': ['Octob...   \n",
       "\n",
       "                                           boxOffice  \\\n",
       "0                                                 []   \n",
       "1                                                 []   \n",
       "2  [{'title-boxoffice-budget': {'val': '$8,000 (e...   \n",
       "3                                                 []   \n",
       "4                                                 []   \n",
       "\n",
       "                                           techspecs  \n",
       "0  [{'title-techspec_runtime': {'val': '1 hour 30...  \n",
       "1  [{'title-techspec_runtime': {'val': '50 minute...  \n",
       "2  [{'title-techspec_runtime': {'val': '14 minute...  \n",
       "3  [{'title-techspec_runtime': {'val': '50 minute...  \n",
       "4  [{'title-techspec_runtime': {'val': '1 hour 32...  "
      ]
     },
     "execution_count": 3,
     "metadata": {},
     "output_type": "execute_result"
    }
   ],
   "source": [
    "df = pd.read_csv(data_path)\n",
    "# df = pl.read_csv(data_path)#, encoding='latin-1')\n",
    "df.head()"
   ]
  },
  {
   "cell_type": "code",
   "execution_count": 26,
   "id": "af57bd28-d36b-4424-bf36-a2e7b88287f3",
   "metadata": {},
   "outputs": [
    {
     "data": {
      "text/plain": [
       "\"[{'title-details-releasedate': {'val': ['September 2, 1975 (United States)'], 'link': ['/title/tt0073397/releaseinfo?ref_=tt_dt_rdat']}}, {'title-details-origin': {'val': ['United States'], 'link': ['/search/title/?country_of_origin=US&ref_=tt_dt_cn']}}, {'title-details-languages': {'val': ['English'], 'link': ['/search/title?title_type=feature&primary_language=en&sort=moviemeter,asc&ref_=tt_dt_ln']}}, {'title-details-companies': {'val': ['Mark VII Ltd.', 'Universal Television'], 'link': ['/company/co0137316?ref_=tt_dt_co_1', '/company/co0046592?ref_=tt_dt_co_2']}}]\""
      ]
     },
     "execution_count": 26,
     "metadata": {},
     "output_type": "execute_result"
    }
   ],
   "source": [
    "df[\"details\"][0]"
   ]
  },
  {
   "cell_type": "code",
   "execution_count": 4,
   "id": "c9ce190b-9295-4022-9116-9c4c08eef31b",
   "metadata": {},
   "outputs": [
    {
     "data": {
      "text/plain": [
       "[{'title': 'Listening in the Dark'},\n",
       " {'poster_link': 'https://m.media-amazon.com/images/M/MV5BY2U2MzhjNTctMWFmMS00YzE5LWIyMDMtZmEwZDMwNDU4OWZiXkEyXkFqcGdeQXVyNDA4MDE4Nw@@._V1_QL75_UY281_CR151,0,190,281_.jpg'},\n",
       " {'genres': ['Documentary', 'Short']},\n",
       " {'plot': 'Human beings are horribly blind to the effect that they have on the natural environment. Yet all around us those repercussions reverberate.'}]"
      ]
     },
     "execution_count": 4,
     "metadata": {},
     "output_type": "execute_result"
    }
   ],
   "source": [
    "#for debug\n",
    "# eval(df[\"boxOffice\"][17])\n",
    "eval(df[\"first\"][17])"
   ]
  },
  {
   "cell_type": "code",
   "execution_count": 5,
   "id": "33f89746-0ec2-405f-8105-4a5ee6fe7aee",
   "metadata": {},
   "outputs": [],
   "source": [
    "def make_new_columns_boxOffice(curr_df,col_name, list_of_keys):\n",
    "    \"\"\"\n",
    "    params will be(col_name,[list_of_keys]) ,\n",
    "    the names in the list should be same as keys\n",
    "    \"\"\"\n",
    "    if(col_name not in curr_df.columns):\n",
    "        print(\"No such column exists in the df\")\n",
    "    for key in list_of_keys:\n",
    "        curr_df[key] = \"\"\n",
    "    for i in range(len(curr_df)):\n",
    "        response_list = eval(curr_df[\"boxOffice\"][i])\n",
    "        if(response_list):\n",
    "            response = response_list\n",
    "            for it in response:\n",
    "                for key in list_of_keys:\n",
    "                    if key in it:\n",
    "                        curr_df[key][i] = it[key][\"val\"]\n",
    "                        \n",
    "\n",
    "    return curr_df\n",
    "    \n",
    "    # delete the original column \n",
    "\n",
    "def make_new_columns_first(curr_df, col_name, list_of_keys):\n",
    "    \"\"\"\n",
    "    params will be(col_name,[list_of_keys]) ,\n",
    "    the names in the list should be same as keys\n",
    "    \"\"\"\n",
    "    if (col_name not in curr_df.columns):\n",
    "        print(\"No such column exists in the df\")\n",
    "    for key in list_of_keys:\n",
    "        curr_df[key] = \"\"\n",
    "    for i in range(len(curr_df)):\n",
    "        response_list = eval(curr_df[\"first\"][i])\n",
    "        if (response_list):\n",
    "            response = response_list\n",
    "            for it in response:\n",
    "                for key in list_of_keys:\n",
    "                    if key in it:\n",
    "                        curr_df[key][i] = it[key]\n",
    "                        \n",
    "\n",
    "    return curr_df\n",
    "    \n",
    "    # delete the original column \n",
    "\n",
    "# def insert_column_num_actors(curr_df):\n",
    "#     \"\"\"\n",
    "#     Inserts a new column that states how many actors are in a particular movie.\n",
    "#     \"\"\"\n",
    "#     curr_df['num_actors'] = pd.Series(dtype='int')\n",
    "#     for i in range(len(curr_df)):\n",
    "#         response_list = eval(curr_df[\"actors\"][i])\n",
    "#         if (response_list):\n",
    "#             curr_df['num_actors'][i] = len(response_list)\n",
    "#         #     response = response_list\n",
    "#         #     for it in response:\n",
    "#         #         for key in list_of_keys:\n",
    "#         #             if key in it:\n",
    "#         #                 curr_df[key][i] = it[key]\n",
    "                        \n",
    "\n",
    "#     return curr_df\n",
    "    \n",
    "    # delete the original column \n",
    "    "
   ]
  },
  {
   "cell_type": "code",
   "execution_count": 6,
   "id": "7c84bcd2-b59c-4b0a-999c-4a7dfbec7f3e",
   "metadata": {},
   "outputs": [],
   "source": [
    "new_df = df\n",
    "new_df = make_new_columns_boxOffice(new_df,\"boxOffice\", [\"title-boxoffice-budget\",\"title-boxoffice-cumulativeworldwidegross\",\"title-boxoffice-grossdomestic\",\"title-boxoffice-openingweekenddomestic\"])\n",
    "new_df = make_new_columns_first(new_df,'first',['title','poster_link','genres','plot','imdb-rating'])\n",
    "new_df.drop(['first','boxOffice','poster_link'], axis = 1, inplace = True)"
   ]
  },
  {
   "cell_type": "code",
   "execution_count": 7,
   "id": "72686619",
   "metadata": {},
   "outputs": [],
   "source": [
    "# pre-processing steps\n",
    "\n",
    "# capture only the imdb rating, remove /10 part and convert to float, insert NaN where no value exists\n",
    "new_df['imdb_rating'] = new_df['imdb-rating'].str.split('/').str[0]\n",
    "new_df['imdb_rating'] = pd.to_numeric(new_df['imdb_rating'], errors='coerce').astype(float)\n",
    "\n",
    "# create new column #genres, fills in 0 where no value is present\n",
    "new_df['num_genres'] = new_df['genres'].apply(lambda x: len(x))\n",
    "\n",
    "# create new column #actors, fills in 0 where no value is present\n",
    "new_df['num_actors'] = new_df['actors'].apply(lambda x: len(eval(x)))"
   ]
  },
  {
   "cell_type": "code",
   "execution_count": 8,
   "id": "ae63a80d-1330-447c-a4a0-f6d52920dce6",
   "metadata": {},
   "outputs": [],
   "source": [
    "def money_str_to_currency(input_str):\n",
    "    '''Takes an input as a str. Saves currency signs if any\\n\",\n",
    "    saves value'''\n",
    "    if(len(input_str)==0):\n",
    "        return None\n",
    "    #strip the str of any spaces\\n\",\n",
    "    stripped_input_str = input_str.strip()\n",
    "    split_str = stripped_input_str.split()\n",
    "    money_str = split_str[0]\n",
    "    currency = money_str[:1]\n",
    "    # money_with_comma = money_str[1:]\n",
    "    # money = money_with_comma.replace(\",\",\"\")\n",
    "    return currency"
   ]
  },
  {
   "cell_type": "code",
   "execution_count": 9,
   "id": "68af5f00-d251-4029-9628-a536ae40cf3c",
   "metadata": {},
   "outputs": [],
   "source": [
    "def money_str_to_int(input_str):\n",
    "    '''Takes an input as a str. Saves currency signs if any\\n\",\n",
    "    saves value'''\n",
    "    if(len(input_str)==0):\n",
    "        return None\n",
    "    #strip the str of any spaces\\n\",\n",
    "    stripped_input_str = input_str.strip()\n",
    "    split_str = stripped_input_str.split()\n",
    "    money_str = split_str[0]\n",
    "    currency = money_str[:1]\n",
    "    money_with_comma = money_str[1:]\n",
    "    money = money_with_comma.replace(\",\",\"\")\n",
    "    return money"
   ]
  },
  {
   "cell_type": "code",
   "execution_count": 10,
   "id": "360ae366-6316-49d0-bf03-8616017e01c7",
   "metadata": {},
   "outputs": [],
   "source": [
    "new_df[\"currency\"] = None\n",
    "new_df[\"budget_money\"] = None"
   ]
  },
  {
   "cell_type": "code",
   "execution_count": 11,
   "id": "237f4873-e38c-4cc8-8168-697a274496bd",
   "metadata": {},
   "outputs": [],
   "source": [
    "new_df[\"currency\"] = new_df[\"title-boxoffice-budget\"].apply(money_str_to_currency)\n",
    "new_df[\"budget_money\"] = new_df[\"title-boxoffice-budget\"].apply(money_str_to_int)"
   ]
  },
  {
   "cell_type": "code",
   "execution_count": 12,
   "id": "fff7d8b6-8717-48b2-b1ac-747dca228720",
   "metadata": {},
   "outputs": [
    {
     "data": {
      "text/plain": [
       "\"[{'title-techspec_runtime': {'val': '1 hour 30 minutes'}}, {'title-techspec_soundmix': {'val': ['Mono']}}, {'title-techspec_aspectratio': {'val': ['1.33 : 1']}}]\""
      ]
     },
     "execution_count": 12,
     "metadata": {},
     "output_type": "execute_result"
    }
   ],
   "source": [
    "df[\"techspecs\"][0]"
   ]
  },
  {
   "cell_type": "code",
   "execution_count": 13,
   "id": "4156163f-c42d-4675-be8b-b43b519c355d",
   "metadata": {},
   "outputs": [],
   "source": [
    "new_df[\"runtime\"] = None\n",
    "new_df[\"soundmix\"] = None\n",
    "new_df[\"aspect_ratio\"] = None"
   ]
  },
  {
   "cell_type": "code",
   "execution_count": 14,
   "id": "5bd3eaef-3c06-4b5e-aec0-3d0882da245a",
   "metadata": {},
   "outputs": [],
   "source": [
    "def extract_techspecs(input_str):\n",
    "    try:\n",
    "        if(len(input_str)==0):\n",
    "            return [None,None,None]\n",
    "        input_list = eval(input_str)\n",
    "        '''iterate on every object,\n",
    "        find every key in every object,\n",
    "        if you find it place the value \n",
    "        else place None'''\n",
    "        runtime = None\n",
    "        soundmix = None\n",
    "        aspect_ratio = None\n",
    "        for obj in input_list:\n",
    "            if(\"title-techspec_runtime\" in obj):\n",
    "                runtime = obj[\"title-techspec_runtime\"][\"val\"]\n",
    "            if(\"title-techspec_soundmix\" in obj):\n",
    "                soundmix = obj[\"title-techspec_soundmix\"][\"val\"]\n",
    "            if(\"title-techspec_aspectratio\" in obj):\n",
    "                aspect_ratio = obj[\"title-techspec_aspectratio\"][\"val\"]\n",
    "    except Exception as e:\n",
    "        print(input_str,e)\n",
    "        sys.exit(1)\n",
    "    return [runtime,soundmix,aspect_ratio]\n",
    "        \n",
    "            "
   ]
  },
  {
   "cell_type": "code",
   "execution_count": 15,
   "id": "00fe507b-8aaa-4c04-94d8-703e5707f286",
   "metadata": {},
   "outputs": [
    {
     "name": "stderr",
     "output_type": "stream",
     "text": [
      "C:\\Users\\parth\\AppData\\Local\\Temp\\ipykernel_34444\\734792789.py:4: SettingWithCopyWarning: \n",
      "A value is trying to be set on a copy of a slice from a DataFrame\n",
      "\n",
      "See the caveats in the documentation: https://pandas.pydata.org/pandas-docs/stable/user_guide/indexing.html#returning-a-view-versus-a-copy\n",
      "  new_df[\"runtime\"][i] = runtime\n",
      "C:\\Users\\parth\\AppData\\Local\\Temp\\ipykernel_34444\\734792789.py:5: SettingWithCopyWarning: \n",
      "A value is trying to be set on a copy of a slice from a DataFrame\n",
      "\n",
      "See the caveats in the documentation: https://pandas.pydata.org/pandas-docs/stable/user_guide/indexing.html#returning-a-view-versus-a-copy\n",
      "  new_df[\"soundmix\"][i] = soundmix\n",
      "C:\\Users\\parth\\AppData\\Local\\Temp\\ipykernel_34444\\734792789.py:6: SettingWithCopyWarning: \n",
      "A value is trying to be set on a copy of a slice from a DataFrame\n",
      "\n",
      "See the caveats in the documentation: https://pandas.pydata.org/pandas-docs/stable/user_guide/indexing.html#returning-a-view-versus-a-copy\n",
      "  new_df[\"aspect_ratio\"][i] = aspect_ratio\n"
     ]
    }
   ],
   "source": [
    "for i in range(len(new_df)):\n",
    "    input_str = new_df[\"techspecs\"][i]\n",
    "    runtime,soundmix,aspect_ratio = extract_techspecs(input_str)\n",
    "    new_df[\"runtime\"][i] = runtime\n",
    "    new_df[\"soundmix\"][i] = soundmix\n",
    "    new_df[\"aspect_ratio\"][i] = aspect_ratio\n",
    "    "
   ]
  },
  {
   "cell_type": "code",
   "execution_count": 16,
   "id": "d08d4ea2-4db3-4b6a-94a8-e9639e68dbb4",
   "metadata": {},
   "outputs": [],
   "source": [
    "# new_df[\"runtime\"] = new_df[\"techspecs\"].apply(extract_techspecs)[0]\n",
    "# new_df[\"soundmix\"] = new_df[\"techspecs\"].apply(extract_techspecs)[1]\n",
    "# new_df[\"aspect_ratio\"] = new_df[\"techspecs\"].apply(extract_techspecs)[2]"
   ]
  },
  {
   "cell_type": "code",
   "execution_count": 17,
   "id": "13ba7633-44e4-4c54-8481-8cb485c5d339",
   "metadata": {},
   "outputs": [
    {
     "data": {
      "text/plain": [
       "Index(['actors', 'details', 'techspecs', 'title-boxoffice-budget',\n",
       "       'title-boxoffice-cumulativeworldwidegross',\n",
       "       'title-boxoffice-grossdomestic',\n",
       "       'title-boxoffice-openingweekenddomestic', 'title', 'genres', 'plot',\n",
       "       'imdb-rating', 'imdb_rating', 'num_genres', 'num_actors', 'currency',\n",
       "       'money', 'runtime', 'soundmix', 'aspect_ratio'],\n",
       "      dtype='object')"
      ]
     },
     "execution_count": 17,
     "metadata": {},
     "output_type": "execute_result"
    }
   ],
   "source": [
    "new_df.columns"
   ]
  },
  {
   "cell_type": "code",
   "execution_count": 18,
   "id": "f35622f8",
   "metadata": {},
   "outputs": [],
   "source": [
    "def extract_columns_from_dataframe(df,column_list):\n",
    "    \"\"\"provide a dataframe and a column list,\n",
    "    return the subset of the datafram if the column exists\"\"\"\n",
    "    column_confirmed_list = []\n",
    "    for column in column_list:\n",
    "        if column in df.columns:\n",
    "            column_confirmed_list.append(column)\n",
    "        else:\n",
    "            print(\"{} column not in the dataframe\\n\".format(column))\n",
    "    df = df[column_confirmed_list]\n",
    "    return df"
   ]
  },
  {
   "cell_type": "code",
   "execution_count": 19,
   "id": "ab7964a6-bb48-4eb0-8e8c-58ca5915b433",
   "metadata": {},
   "outputs": [
    {
     "data": {
      "text/html": [
       "<div>\n",
       "<style scoped>\n",
       "    .dataframe tbody tr th:only-of-type {\n",
       "        vertical-align: middle;\n",
       "    }\n",
       "\n",
       "    .dataframe tbody tr th {\n",
       "        vertical-align: top;\n",
       "    }\n",
       "\n",
       "    .dataframe thead th {\n",
       "        text-align: right;\n",
       "    }\n",
       "</style>\n",
       "<table border=\"1\" class=\"dataframe\">\n",
       "  <thead>\n",
       "    <tr style=\"text-align: right;\">\n",
       "      <th></th>\n",
       "      <th>title</th>\n",
       "    </tr>\n",
       "  </thead>\n",
       "  <tbody>\n",
       "    <tr>\n",
       "      <th>0</th>\n",
       "      <td>Mobile Two</td>\n",
       "    </tr>\n",
       "    <tr>\n",
       "      <th>1</th>\n",
       "      <td>Giving Becky a Chance</td>\n",
       "    </tr>\n",
       "    <tr>\n",
       "      <th>2</th>\n",
       "      <td>Promises</td>\n",
       "    </tr>\n",
       "    <tr>\n",
       "      <th>3</th>\n",
       "      <td>Sin</td>\n",
       "    </tr>\n",
       "    <tr>\n",
       "      <th>4</th>\n",
       "      <td>The Miseducation of Bindu</td>\n",
       "    </tr>\n",
       "    <tr>\n",
       "      <th>...</th>\n",
       "      <td>...</td>\n",
       "    </tr>\n",
       "    <tr>\n",
       "      <th>100394</th>\n",
       "      <td>Ron Hopper's Misfortune</td>\n",
       "    </tr>\n",
       "    <tr>\n",
       "      <th>100395</th>\n",
       "      <td>Coins for Christmas</td>\n",
       "    </tr>\n",
       "    <tr>\n",
       "      <th>100396</th>\n",
       "      <td>Alpha Delta Zatan</td>\n",
       "    </tr>\n",
       "    <tr>\n",
       "      <th>100397</th>\n",
       "      <td>Quadratic Equations</td>\n",
       "    </tr>\n",
       "    <tr>\n",
       "      <th>100398</th>\n",
       "      <td>Disencumber</td>\n",
       "    </tr>\n",
       "  </tbody>\n",
       "</table>\n",
       "<p>100399 rows × 1 columns</p>\n",
       "</div>"
      ],
      "text/plain": [
       "                            title\n",
       "0                      Mobile Two\n",
       "1           Giving Becky a Chance\n",
       "2                        Promises\n",
       "3                             Sin\n",
       "4       The Miseducation of Bindu\n",
       "...                           ...\n",
       "100394    Ron Hopper's Misfortune\n",
       "100395        Coins for Christmas\n",
       "100396          Alpha Delta Zatan\n",
       "100397        Quadratic Equations\n",
       "100398                Disencumber\n",
       "\n",
       "[100399 rows x 1 columns]"
      ]
     },
     "execution_count": 19,
     "metadata": {},
     "output_type": "execute_result"
    }
   ],
   "source": [
    "new_df[[\"title\"]]"
   ]
  },
  {
   "cell_type": "code",
   "execution_count": 20,
   "id": "fb914d92-07c5-45a4-bb60-5d8573860cf1",
   "metadata": {},
   "outputs": [],
   "source": [
    "column_list = ['title', 'genres', 'plot',\n",
    "       'imdb-rating', 'imdb_rating', 'num_genres', 'num_actors', 'currency',\n",
    "       'money', 'runtime', 'soundmix', 'aspect_ratio']"
   ]
  },
  {
   "cell_type": "code",
   "execution_count": 21,
   "id": "efac5444-d1e2-4d2c-91d3-ed7f4f566f10",
   "metadata": {},
   "outputs": [],
   "source": [
    "extract_df = extract_columns_from_dataframe(new_df,column_list)"
   ]
  },
  {
   "cell_type": "code",
   "execution_count": 25,
   "id": "340c6136-a591-4c3d-af06-f7a42b878aa1",
   "metadata": {},
   "outputs": [],
   "source": [
    "extract_df.to_csv(r\"C:\\Users\\parth\\2023\\Fall 2023\\Projects\\movie_analysis\\data\\csvs\\file.csv\")"
   ]
  },
  {
   "cell_type": "code",
   "execution_count": null,
   "id": "de51fdff-420d-4ab6-9a6f-a2688a9fd613",
   "metadata": {},
   "outputs": [],
   "source": [
    "# df[\"title-boxoffice-budget\"][1]"
   ]
  },
  {
   "cell_type": "code",
   "execution_count": null,
   "id": "af57f537-58d5-4bcd-a8e7-7d79b943c21b",
   "metadata": {},
   "outputs": [],
   "source": [
    "df.eq('').sum() "
   ]
  },
  {
   "cell_type": "code",
   "execution_count": null,
   "id": "755114bc-d467-4b79-a97a-711b351d69ac",
   "metadata": {},
   "outputs": [],
   "source": []
  }
 ],
 "metadata": {
  "kernelspec": {
   "display_name": "Python 3 (ipykernel)",
   "language": "python",
   "name": "python3"
  },
  "language_info": {
   "codemirror_mode": {
    "name": "ipython",
    "version": 3
   },
   "file_extension": ".py",
   "mimetype": "text/x-python",
   "name": "python",
   "nbconvert_exporter": "python",
   "pygments_lexer": "ipython3",
   "version": "3.10.1"
  }
 },
 "nbformat": 4,
 "nbformat_minor": 5
}
