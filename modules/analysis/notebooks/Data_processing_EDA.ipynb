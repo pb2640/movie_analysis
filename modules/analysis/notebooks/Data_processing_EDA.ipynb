{
 "cells": [
  {
   "cell_type": "code",
   "execution_count": 1,
   "id": "5a161836-f781-4e08-8cb7-da2347d22e7c",
   "metadata": {},
   "outputs": [],
   "source": [
    "import pandas as pd\n",
    "import polars as pl"
   ]
  },
  {
   "cell_type": "code",
   "execution_count": 5,
   "id": "814f61f7-e89b-4bc7-99c0-38ebef2ce311",
   "metadata": {},
   "outputs": [],
   "source": [
    "# data_path = r\"C:\\Users\\parth\\2023\\Fall 2023\\Projects\\docker_hack\\data\\data.csv\"\n",
    "data_path = \"../../../data/csv_dumps/data.csv\""
   ]
  },
  {
   "cell_type": "code",
   "execution_count": 112,
   "id": "7308447d-ccb7-4d43-8f04-2f566708c3f1",
   "metadata": {},
   "outputs": [
    {
     "data": {
      "text/html": [
       "<div>\n",
       "<style scoped>\n",
       "    .dataframe tbody tr th:only-of-type {\n",
       "        vertical-align: middle;\n",
       "    }\n",
       "\n",
       "    .dataframe tbody tr th {\n",
       "        vertical-align: top;\n",
       "    }\n",
       "\n",
       "    .dataframe thead th {\n",
       "        text-align: right;\n",
       "    }\n",
       "</style>\n",
       "<table border=\"1\" class=\"dataframe\">\n",
       "  <thead>\n",
       "    <tr style=\"text-align: right;\">\n",
       "      <th></th>\n",
       "      <th>movie_id</th>\n",
       "      <th>first</th>\n",
       "      <th>actors</th>\n",
       "      <th>details</th>\n",
       "      <th>boxOffice</th>\n",
       "      <th>techspecs</th>\n",
       "    </tr>\n",
       "  </thead>\n",
       "  <tbody>\n",
       "    <tr>\n",
       "      <th>0</th>\n",
       "      <td>tt0073397</td>\n",
       "      <td>[{'title': 'Mobile Two'}, {'genres': ['Drama']...</td>\n",
       "      <td>[{'image': 'https://m.media-amazon.com/images/...</td>\n",
       "      <td>[{'title-details-releasedate': {'val': ['Septe...</td>\n",
       "      <td>[]</td>\n",
       "      <td>[{'title-techspec_runtime': {'val': '1 hour 30...</td>\n",
       "    </tr>\n",
       "    <tr>\n",
       "      <th>1</th>\n",
       "      <td>tt0175670</td>\n",
       "      <td>[{'title': 'Giving Becky a Chance'}, {'poster_...</td>\n",
       "      <td>[{'image': 'https://m.media-amazon.com/images/...</td>\n",
       "      <td>[{'title-details-releasedate': {'val': ['June ...</td>\n",
       "      <td>[]</td>\n",
       "      <td>[{'title-techspec_runtime': {'val': '50 minute...</td>\n",
       "    </tr>\n",
       "    <tr>\n",
       "      <th>2</th>\n",
       "      <td>tt19244426</td>\n",
       "      <td>[{'title': 'Promises'}, {'poster_link': 'https...</td>\n",
       "      <td>[]</td>\n",
       "      <td>[{'title-details-releasedate': {'val': ['2022 ...</td>\n",
       "      <td>[{'title-boxoffice-budget': {'val': '$8,000 (e...</td>\n",
       "      <td>[{'title-techspec_runtime': {'val': '14 minute...</td>\n",
       "    </tr>\n",
       "    <tr>\n",
       "      <th>3</th>\n",
       "      <td>tt0006049</td>\n",
       "      <td>[{'title': 'Sin'}, {'poster_link': 'https://m....</td>\n",
       "      <td>[{'image': 'https://m.media-amazon.com/images/...</td>\n",
       "      <td>[{'title-details-releasedate': {'val': ['Octob...</td>\n",
       "      <td>[]</td>\n",
       "      <td>[{'title-techspec_runtime': {'val': '50 minute...</td>\n",
       "    </tr>\n",
       "    <tr>\n",
       "      <th>4</th>\n",
       "      <td>tt7955022</td>\n",
       "      <td>[{'title': 'The Miseducation of Bindu'}, {'pos...</td>\n",
       "      <td>[{'image': 'https://m.media-amazon.com/images/...</td>\n",
       "      <td>[{'title-details-releasedate': {'val': ['Octob...</td>\n",
       "      <td>[]</td>\n",
       "      <td>[{'title-techspec_runtime': {'val': '1 hour 32...</td>\n",
       "    </tr>\n",
       "  </tbody>\n",
       "</table>\n",
       "</div>"
      ],
      "text/plain": [
       "     movie_id                                              first  \\\n",
       "0   tt0073397  [{'title': 'Mobile Two'}, {'genres': ['Drama']...   \n",
       "1   tt0175670  [{'title': 'Giving Becky a Chance'}, {'poster_...   \n",
       "2  tt19244426  [{'title': 'Promises'}, {'poster_link': 'https...   \n",
       "3   tt0006049  [{'title': 'Sin'}, {'poster_link': 'https://m....   \n",
       "4   tt7955022  [{'title': 'The Miseducation of Bindu'}, {'pos...   \n",
       "\n",
       "                                              actors  \\\n",
       "0  [{'image': 'https://m.media-amazon.com/images/...   \n",
       "1  [{'image': 'https://m.media-amazon.com/images/...   \n",
       "2                                                 []   \n",
       "3  [{'image': 'https://m.media-amazon.com/images/...   \n",
       "4  [{'image': 'https://m.media-amazon.com/images/...   \n",
       "\n",
       "                                             details  \\\n",
       "0  [{'title-details-releasedate': {'val': ['Septe...   \n",
       "1  [{'title-details-releasedate': {'val': ['June ...   \n",
       "2  [{'title-details-releasedate': {'val': ['2022 ...   \n",
       "3  [{'title-details-releasedate': {'val': ['Octob...   \n",
       "4  [{'title-details-releasedate': {'val': ['Octob...   \n",
       "\n",
       "                                           boxOffice  \\\n",
       "0                                                 []   \n",
       "1                                                 []   \n",
       "2  [{'title-boxoffice-budget': {'val': '$8,000 (e...   \n",
       "3                                                 []   \n",
       "4                                                 []   \n",
       "\n",
       "                                           techspecs  \n",
       "0  [{'title-techspec_runtime': {'val': '1 hour 30...  \n",
       "1  [{'title-techspec_runtime': {'val': '50 minute...  \n",
       "2  [{'title-techspec_runtime': {'val': '14 minute...  \n",
       "3  [{'title-techspec_runtime': {'val': '50 minute...  \n",
       "4  [{'title-techspec_runtime': {'val': '1 hour 32...  "
      ]
     },
     "execution_count": 112,
     "metadata": {},
     "output_type": "execute_result"
    }
   ],
   "source": [
    "df = pd.read_csv(data_path)\n",
    "# df = pl.read_csv(data_path)#, encoding='latin-1')\n",
    "df.head()"
   ]
  },
  {
   "cell_type": "code",
   "execution_count": 33,
   "id": "c9ce190b-9295-4022-9116-9c4c08eef31b",
   "metadata": {},
   "outputs": [
    {
     "data": {
      "text/plain": [
       "[{'title': 'Listening in the Dark'},\n",
       " {'poster_link': 'https://m.media-amazon.com/images/M/MV5BY2U2MzhjNTctMWFmMS00YzE5LWIyMDMtZmEwZDMwNDU4OWZiXkEyXkFqcGdeQXVyNDA4MDE4Nw@@._V1_QL75_UY281_CR151,0,190,281_.jpg'},\n",
       " {'genres': ['Documentary', 'Short']},\n",
       " {'plot': 'Human beings are horribly blind to the effect that they have on the natural environment. Yet all around us those repercussions reverberate.'}]"
      ]
     },
     "execution_count": 33,
     "metadata": {},
     "output_type": "execute_result"
    }
   ],
   "source": [
    "#for debug\n",
    "# eval(df[\"boxOffice\"][17])\n",
    "eval(df[\"first\"][17])"
   ]
  },
  {
   "cell_type": "code",
   "execution_count": 200,
   "id": "33f89746-0ec2-405f-8105-4a5ee6fe7aee",
   "metadata": {},
   "outputs": [],
   "source": [
    "def make_new_columns_boxOffice(curr_df,col_name, list_of_keys):\n",
    "    \"\"\"\n",
    "    params will be(col_name,[list_of_keys]) ,\n",
    "    the names in the list should be same as keys\n",
    "    \"\"\"\n",
    "    if(col_name not in curr_df.columns):\n",
    "        print(\"No such column exists in the df\")\n",
    "    for key in list_of_keys:\n",
    "        curr_df[key] = \"\"\n",
    "    for i in range(len(curr_df)):\n",
    "        response_list = eval(curr_df[\"boxOffice\"][i])\n",
    "        if(response_list):\n",
    "            response = response_list\n",
    "            for it in response:\n",
    "                for key in list_of_keys:\n",
    "                    if key in it:\n",
    "                        curr_df[key][i] = it[key][\"val\"]\n",
    "                        \n",
    "\n",
    "    return curr_df\n",
    "    \n",
    "    # delete the original column \n",
    "\n",
    "def make_new_columns_first(curr_df, col_name, list_of_keys):\n",
    "    \"\"\"\n",
    "    params will be(col_name,[list_of_keys]) ,\n",
    "    the names in the list should be same as keys\n",
    "    \"\"\"\n",
    "    if (col_name not in curr_df.columns):\n",
    "        print(\"No such column exists in the df\")\n",
    "    for key in list_of_keys:\n",
    "        curr_df[key] = \"\"\n",
    "    for i in range(len(curr_df)):\n",
    "        response_list = eval(curr_df[\"first\"][i])\n",
    "        if (response_list):\n",
    "            response = response_list\n",
    "            for it in response:\n",
    "                for key in list_of_keys:\n",
    "                    if key in it:\n",
    "                        curr_df[key][i] = it[key]\n",
    "                        \n",
    "\n",
    "    return curr_df\n",
    "    \n",
    "    # delete the original column \n",
    "\n",
    "def insert_column_num_actors(curr_df):\n",
    "    \"\"\"\n",
    "    Inserts a new column that states how many actors are in a particular movie.\n",
    "    \"\"\"\n",
    "    curr_df['num_actors'] = pd.Series(dtype='int')\n",
    "    for i in range(len(curr_df)):\n",
    "        response_list = eval(curr_df[\"actors\"][i])\n",
    "        if (response_list):\n",
    "            curr_df['num_actors'][i] = len(response_list)\n",
    "        #     response = response_list\n",
    "        #     for it in response:\n",
    "        #         for key in list_of_keys:\n",
    "        #             if key in it:\n",
    "        #                 curr_df[key][i] = it[key]\n",
    "                        \n",
    "\n",
    "    return curr_df\n",
    "    \n",
    "    # delete the original column \n",
    "    "
   ]
  },
  {
   "cell_type": "code",
   "execution_count": 157,
   "id": "7c84bcd2-b59c-4b0a-999c-4a7dfbec7f3e",
   "metadata": {},
   "outputs": [],
   "source": [
    "new_df = df.copy()\n",
    "new_df = make_new_columns_boxOffice(new_df,\"boxOffice\", [\"title-boxoffice-budget\",\"title-boxoffice-cumulativeworldwidegross\",\"title-boxoffice-grossdomestic\",\"title-boxoffice-openingweekenddomestic\"])\n",
    "new_df = make_new_columns_first(new_df,'first',['title','poster_link','genres','plot','imdb-rating'])\n",
    "new_df = insert_column_num_actors(new_df)\n",
    "new_df.drop(['first','boxOffice'], axis = 1, inplace = True)"
   ]
  },
  {
   "cell_type": "code",
   "execution_count": 206,
   "id": "72686619",
   "metadata": {},
   "outputs": [
    {
     "data": {
      "text/plain": [
       "'6.9/10'"
      ]
     },
     "execution_count": 206,
     "metadata": {},
     "output_type": "execute_result"
    }
   ],
   "source": []
  },
  {
   "cell_type": "code",
   "execution_count": null,
   "id": "f35622f8",
   "metadata": {},
   "outputs": [],
   "source": []
  },
  {
   "cell_type": "code",
   "execution_count": 116,
   "id": "340c6136-a591-4c3d-af06-f7a42b878aa1",
   "metadata": {},
   "outputs": [
    {
     "data": {
      "text/plain": [
       "movie_id                                    0\n",
       "actors                                      0\n",
       "details                                     0\n",
       "techspecs                                   0\n",
       "title-boxoffice-budget                      0\n",
       "title-boxoffice-cumulativeworldwidegross    0\n",
       "title-boxoffice-grossdomestic               0\n",
       "title-boxoffice-openingweekenddomestic      0\n",
       "title                                       0\n",
       "poster_link                                 0\n",
       "genres                                      0\n",
       "plot                                        0\n",
       "imdb-rating                                 0\n",
       "dtype: int64"
      ]
     },
     "execution_count": 116,
     "metadata": {},
     "output_type": "execute_result"
    }
   ],
   "source": [
    "new_df.isna().sum()"
   ]
  },
  {
   "cell_type": "code",
   "execution_count": 118,
   "id": "de51fdff-420d-4ab6-9a6f-a2688a9fd613",
   "metadata": {},
   "outputs": [],
   "source": [
    "# df[\"title-boxoffice-budget\"][1]"
   ]
  },
  {
   "cell_type": "code",
   "execution_count": 39,
   "id": "af57f537-58d5-4bcd-a8e7-7d79b943c21b",
   "metadata": {},
   "outputs": [
    {
     "data": {
      "text/plain": [
       "first                                           0\n",
       "actors                                          0\n",
       "details                                         0\n",
       "boxOffice                                       0\n",
       "techspecs                                       0\n",
       "title-boxoffice-budget                      80305\n",
       "title-boxoffice-cumulativeworldwidegross    96234\n",
       "title-boxoffice-grossdomestic               98282\n",
       "title-boxoffice-openingweekenddomestic      98594\n",
       "dtype: int64"
      ]
     },
     "execution_count": 39,
     "metadata": {},
     "output_type": "execute_result"
    }
   ],
   "source": [
    "df.eq('').sum() "
   ]
  },
  {
   "cell_type": "code",
   "execution_count": null,
   "id": "755114bc-d467-4b79-a97a-711b351d69ac",
   "metadata": {},
   "outputs": [],
   "source": []
  }
 ],
 "metadata": {
  "kernelspec": {
   "display_name": "Python 3 (ipykernel)",
   "language": "python",
   "name": "python3"
  },
  "language_info": {
   "codemirror_mode": {
    "name": "ipython",
    "version": 3
   },
   "file_extension": ".py",
   "mimetype": "text/x-python",
   "name": "python",
   "nbconvert_exporter": "python",
   "pygments_lexer": "ipython3",
   "version": "3.10.11"
  }
 },
 "nbformat": 4,
 "nbformat_minor": 5
}
