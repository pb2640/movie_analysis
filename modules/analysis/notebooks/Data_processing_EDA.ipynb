{
 "cells": [
  {
   "cell_type": "code",
   "execution_count": null,
   "id": "5a161836-f781-4e08-8cb7-da2347d22e7c",
   "metadata": {},
   "outputs": [],
   "source": [
    "import pandas as pd\n",
    "import polars as pl"
   ]
  },
  {
   "cell_type": "code",
   "execution_count": null,
   "id": "814f61f7-e89b-4bc7-99c0-38ebef2ce311",
   "metadata": {},
   "outputs": [],
   "source": [
    "# data_path = r\"C:\\Users\\parth\\2023\\Fall 2023\\Projects\\docker_hack\\data\\data.csv\"\n",
    "data_path = \"../../../data/csv_dumps/data.csv\""
   ]
  },
  {
   "cell_type": "code",
   "execution_count": null,
   "id": "7308447d-ccb7-4d43-8f04-2f566708c3f1",
   "metadata": {},
   "outputs": [],
   "source": [
    "df = pd.read_csv(data_path)\n",
    "# df = pl.read_csv(data_path)#, encoding='latin-1')\n",
    "df.head()"
   ]
  },
  {
   "cell_type": "code",
   "execution_count": null,
   "id": "c9ce190b-9295-4022-9116-9c4c08eef31b",
   "metadata": {},
   "outputs": [],
   "source": [
    "#for debug\n",
    "# eval(df[\"boxOffice\"][17])\n",
    "eval(df[\"first\"][17])"
   ]
  },
  {
   "cell_type": "code",
   "execution_count": null,
   "id": "33f89746-0ec2-405f-8105-4a5ee6fe7aee",
   "metadata": {},
   "outputs": [],
   "source": [
    "def make_new_columns_boxOffice(curr_df,col_name, list_of_keys):\n",
    "    \"\"\"\n",
    "    params will be(col_name,[list_of_keys]) ,\n",
    "    the names in the list should be same as keys\n",
    "    \"\"\"\n",
    "    if(col_name not in curr_df.columns):\n",
    "        print(\"No such column exists in the df\")\n",
    "    for key in list_of_keys:\n",
    "        curr_df[key] = \"\"\n",
    "    for i in range(len(curr_df)):\n",
    "        response_list = eval(curr_df[\"boxOffice\"][i])\n",
    "        if(response_list):\n",
    "            response = response_list\n",
    "            for it in response:\n",
    "                for key in list_of_keys:\n",
    "                    if key in it:\n",
    "                        curr_df[key][i] = it[key][\"val\"]\n",
    "                        \n",
    "\n",
    "    return curr_df\n",
    "    \n",
    "    # delete the original column \n",
    "\n",
    "def make_new_columns_first(curr_df, col_name, list_of_keys):\n",
    "    \"\"\"\n",
    "    params will be(col_name,[list_of_keys]) ,\n",
    "    the names in the list should be same as keys\n",
    "    \"\"\"\n",
    "    if (col_name not in curr_df.columns):\n",
    "        print(\"No such column exists in the df\")\n",
    "    for key in list_of_keys:\n",
    "        curr_df[key] = \"\"\n",
    "    for i in range(len(curr_df)):\n",
    "        response_list = eval(curr_df[\"first\"][i])\n",
    "        if (response_list):\n",
    "            response = response_list\n",
    "            for it in response:\n",
    "                for key in list_of_keys:\n",
    "                    if key in it:\n",
    "                        curr_df[key][i] = it[key]\n",
    "                        \n",
    "\n",
    "    return curr_df\n",
    "    \n",
    "    # delete the original column \n",
    "\n",
    "# def insert_column_num_actors(curr_df):\n",
    "#     \"\"\"\n",
    "#     Inserts a new column that states how many actors are in a particular movie.\n",
    "#     \"\"\"\n",
    "#     curr_df['num_actors'] = pd.Series(dtype='int')\n",
    "#     for i in range(len(curr_df)):\n",
    "#         response_list = eval(curr_df[\"actors\"][i])\n",
    "#         if (response_list):\n",
    "#             curr_df['num_actors'][i] = len(response_list)\n",
    "#         #     response = response_list\n",
    "#         #     for it in response:\n",
    "#         #         for key in list_of_keys:\n",
    "#         #             if key in it:\n",
    "#         #                 curr_df[key][i] = it[key]\n",
    "                        \n",
    "\n",
    "#     return curr_df\n",
    "    \n",
    "    # delete the original column \n",
    "    "
   ]
  },
  {
   "cell_type": "code",
   "execution_count": null,
   "id": "7c84bcd2-b59c-4b0a-999c-4a7dfbec7f3e",
   "metadata": {},
   "outputs": [],
   "source": [
    "new_df = df.copy()\n",
    "new_df = make_new_columns_boxOffice(new_df,\"boxOffice\", [\"title-boxoffice-budget\",\"title-boxoffice-cumulativeworldwidegross\",\"title-boxoffice-grossdomestic\",\"title-boxoffice-openingweekenddomestic\"])\n",
    "new_df = make_new_columns_first(new_df,'first',['title','poster_link','genres','plot','imdb-rating'])\n",
    "new_df.drop(['first','boxOffice','poster_link'], axis = 1, inplace = True)"
   ]
  },
  {
   "cell_type": "code",
   "execution_count": null,
   "id": "72686619",
   "metadata": {},
   "outputs": [],
   "source": [
    "# pre-processing steps\n",
    "\n",
    "# capture only the imdb rating, remove /10 part and convert to float, insert NaN where no value exists\n",
    "new_df['imdb_rating'] = new_df['imdb-rating'].str.split('/').str[0]\n",
    "new_df['imdb_rating'] = pd.to_numeric(new_df['imdb_rating'], errors='coerce').astype(float)\n",
    "\n",
    "# create new column #genres, fills in 0 where no value is present\n",
    "new_df['num_genres'] = new_df['genres'].apply(lambda x: len(x))\n",
    "\n",
    "# create new column #actors, fills in 0 where no value is present\n",
    "new_df['num_actors'] = new_df['actors'].apply(lambda x: len(eval(x)))"
   ]
  },
  {
   "cell_type": "code",
   "execution_count": null,
   "id": "f35622f8",
   "metadata": {},
   "outputs": [],
   "source": [
    "# 30,53\n",
    "new_df"
   ]
  },
  {
   "cell_type": "code",
   "execution_count": null,
   "id": "340c6136-a591-4c3d-af06-f7a42b878aa1",
   "metadata": {},
   "outputs": [],
   "source": [
    "new_df.isna().sum()"
   ]
  },
  {
   "cell_type": "code",
   "execution_count": null,
   "id": "de51fdff-420d-4ab6-9a6f-a2688a9fd613",
   "metadata": {},
   "outputs": [],
   "source": [
    "# df[\"title-boxoffice-budget\"][1]"
   ]
  },
  {
   "cell_type": "code",
   "execution_count": null,
   "id": "af57f537-58d5-4bcd-a8e7-7d79b943c21b",
   "metadata": {},
   "outputs": [],
   "source": [
    "df.eq('').sum() "
   ]
  },
  {
   "cell_type": "code",
   "execution_count": null,
   "id": "755114bc-d467-4b79-a97a-711b351d69ac",
   "metadata": {},
   "outputs": [],
   "source": []
  }
 ],
 "metadata": {
  "kernelspec": {
   "display_name": "Python 3 (ipykernel)",
   "language": "python",
   "name": "python3"
  },
  "language_info": {
   "codemirror_mode": {
    "name": "ipython",
    "version": 3
   },
   "file_extension": ".py",
   "mimetype": "text/x-python",
   "name": "python",
   "nbconvert_exporter": "python",
   "pygments_lexer": "ipython3",
   "version": "3.10.11"
  }
 },
 "nbformat": 4,
 "nbformat_minor": 5
}
